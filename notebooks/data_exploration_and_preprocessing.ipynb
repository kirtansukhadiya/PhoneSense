{
  "cells": [
    {
      "cell_type": "markdown",
      "metadata": {},
      "source": [
        "\n"
      ]
    },
    {
      "cell_type": "code",
      "execution_count": 1,
      "metadata": {},
      "outputs": [],
      "source": [
        "import pandas as pd\n",
        "import matplotlib.pyplot as plt\n",
        "import seaborn as sns"
      ]
    },
    {
      "cell_type": "code",
      "execution_count": 2,
      "metadata": {},
      "outputs": [],
      "source": [
        "dataset = pd.read_csv(\"/Users/kirtansukhadiya/Desktop/Uni/sem_5/Data_Science/PhoneSense/data/processed/mobile_addiction_cleaned_final.csv\")\n",
        "dataset_target = pd.read_csv(\"/Users/kirtansukhadiya/Desktop/Uni/sem_5/Data_Science/PhoneSense/data/processed/mobile_addiction_target.csv\")"
      ]
    },
    {
      "cell_type": "code",
      "execution_count": 8,
      "metadata": {},
      "outputs": [
        {
          "name": "stdout",
          "output_type": "stream",
          "text": [
            "<class 'pandas.core.frame.DataFrame'>\n",
            "RangeIndex: 5000 entries, 0 to 4999\n",
            "Data columns (total 19 columns):\n",
            " #   Column                                    Non-Null Count  Dtype  \n",
            "---  ------                                    --------------  -----  \n",
            " 0   Gender                                    5000 non-null   float64\n",
            " 1   Use Phone for Class Notes                 5000 non-null   float64\n",
            " 2   Buy/Access Books from Phone               5000 non-null   float64\n",
            " 3   Phone's Battery Lasts a Day               5000 non-null   float64\n",
            " 4   Run for Charger When Battery Dies         5000 non-null   float64\n",
            " 5   Worry About Losing Cell Phone             5000 non-null   float64\n",
            " 6   Take Phone to Bathroom                    5000 non-null   float64\n",
            " 7   Use Phone in Social Gatherings            5000 non-null   float64\n",
            " 8   Check Phone Without Notification          5000 non-null   int64  \n",
            " 9   Check Phone Before Sleep/After Waking Up  5000 non-null   float64\n",
            " 10  Keep Phone Next to While Sleeping         5000 non-null   float64\n",
            " 11  Check Emails/Calls/Texts During Class     5000 non-null   float64\n",
            " 12  Rely on Phone in Awkward Situations       5000 non-null   float64\n",
            " 13  On Phone While Watching TV/Eating         5000 non-null   float64\n",
            " 14  Panic Attack if Phone Left Elsewhere      5000 non-null   float64\n",
            " 15  Use Phone on Date                         5000 non-null   float64\n",
            " 16  Live a Day Without Phone                  5000 non-null   float64\n",
            " 17  Age                                       5000 non-null   int64  \n",
            " 18  Phone Use for Playing Games               5000 non-null   int64  \n",
            "dtypes: float64(16), int64(3)\n",
            "memory usage: 742.3 KB\n"
          ]
        }
      ],
      "source": [
        "dataset.head()\n",
        "dataset.info()\n",
        "dataset.describe()\n",
        "mean = dataset.iloc[:, 1:-1].mean().round(2)\n",
        "SD = dataset.iloc[:, 1:-1].std().round(2)\n",
        "Variance = dataset.iloc[:, 1:-1].var().round(2)"
      ]
    },
    {
      "cell_type": "code",
      "execution_count": 4,
      "metadata": {},
      "outputs": [
        {
          "name": "stdout",
          "output_type": "stream",
          "text": [
            "                                           Mean  Variance  Std Dev\n",
            "Use Phone for Class Notes                  0.50      0.25     0.50\n",
            "Buy/Access Books from Phone                0.50      0.25     0.50\n",
            "Phone's Battery Lasts a Day                0.49      0.25     0.50\n",
            "Run for Charger When Battery Dies          0.50      0.25     0.50\n",
            "Worry About Losing Cell Phone              0.50      0.25     0.50\n",
            "Take Phone to Bathroom                     0.50      0.25     0.50\n",
            "Use Phone in Social Gatherings             0.50      0.25     0.50\n",
            "Check Phone Without Notification           1.51      1.24     1.12\n",
            "Check Phone Before Sleep/After Waking Up   0.52      0.25     0.50\n",
            "Keep Phone Next to While Sleeping          0.49      0.25     0.50\n",
            "Check Emails/Calls/Texts During Class      0.49      0.25     0.50\n",
            "Rely on Phone in Awkward Situations        0.49      0.25     0.50\n",
            "On Phone While Watching TV/Eating          0.51      0.25     0.50\n",
            "Panic Attack if Phone Left Elsewhere       0.49      0.25     0.50\n",
            "Use Phone on Date                          0.50      0.25     0.50\n",
            "Live a Day Without Phone                   0.50      0.25     0.50\n",
            "Age                                       41.31    187.21    13.68\n"
          ]
        }
      ],
      "source": [
        "summary = pd.DataFrame({\n",
        "    'Mean': mean,\n",
        "    'Variance': Variance,\n",
        "    'Std Dev': SD})\n",
        "print(summary)"
      ]
    },
    {
      "cell_type": "code",
      "execution_count": 5,
      "metadata": {},
      "outputs": [],
      "source": [
        "dataset_target.head()\n",
        "dataset_target['addiction_level'].value_counts()\n",
        "mean_t = dataset_target.iloc[:, 1:-1].mean().round(2)\n",
        "SD_t = dataset_target.iloc[:, 1:-1].std().round(2)\n",
        "Variance_t = dataset_target.iloc[:, 1:-1].var().round(2)"
      ]
    },
    {
      "cell_type": "code",
      "execution_count": 6,
      "metadata": {},
      "outputs": [
        {
          "name": "stdout",
          "output_type": "stream",
          "text": [
            "Empty DataFrame\n",
            "Columns: [Mean, Variance, Std Dev]\n",
            "Index: []\n"
          ]
        }
      ],
      "source": [
        "summary_t = pd.DataFrame({\n",
        "    'Mean': mean_t,\n",
        "    'Variance': Variance_t,\n",
        "    'Std Dev': SD_t})\n",
        "print(summary_t)"
      ]
    },
    {
      "cell_type": "code",
      "execution_count": 7,
      "metadata": {},
      "outputs": [
        {
          "data": {
            "image/png": "[encoded data removed]",
            "text/plain": [
              "<Figure size 640x480 with 1 Axes>"
            ]
          },
          "metadata": {},
          "output_type": "display_data"
        }
      ],
      "source": [
        "sns.countplot(data=dataset_target, x='addiction_level')\n",
        "plt.show()"
      ]
    }
  ],
  "metadata": {
    "kernelspec": {
      "display_name": "Python 3",
      "language": "python",
      "name": "python3"
    },
    "language_info": {
      "codemirror_mode": {
        "name": "ipython",
        "version": 3
      },
      "file_extension": ".py",
      "mimetype": "text/x-python",
      "name": "python",
      "nbconvert_exporter": "python",
      "pygments_lexer": "ipython3",
      "version": "3.13.0"
    }
  },
  "nbformat": 4,
  "nbformat_minor": 2
}
